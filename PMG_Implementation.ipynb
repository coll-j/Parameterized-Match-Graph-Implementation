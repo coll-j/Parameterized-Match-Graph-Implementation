{
  "nbformat": 4,
  "nbformat_minor": 0,
  "metadata": {
    "colab": {
      "name": "PMG-Implementation.ipynb",
      "provenance": [],
      "authorship_tag": "ABX9TyMZj8f42FIDpeu+h0YMjwGY",
      "include_colab_link": true
    },
    "kernelspec": {
      "name": "python3",
      "display_name": "Python 3"
    },
    "language_info": {
      "name": "python"
    }
  },
  "cells": [
    {
      "cell_type": "markdown",
      "metadata": {
        "id": "view-in-github",
        "colab_type": "text"
      },
      "source": [
        "<a href=\"https://colab.research.google.com/github/coll-j/Parameterized-Match-Graph-Implementation/blob/main/PMG_Implementation.ipynb\" target=\"_parent\"><img src=\"https://colab.research.google.com/assets/colab-badge.svg\" alt=\"Open In Colab\"/></a>"
      ]
    },
    {
      "cell_type": "markdown",
      "metadata": {
        "id": "DWv0zwIIbTlI"
      },
      "source": [
        "Reference:\n",
        "https://www.microsoft.com/en-us/research/wp-content/uploads/2016/02/samehe-graphisomorphism.spire2013.pdf"
      ]
    },
    {
      "cell_type": "code",
      "metadata": {
        "colab": {
          "base_uri": "https://localhost:8080/"
        },
        "id": "xWvdswxYbPg4",
        "outputId": "73c559e1-9538-4650-c30a-d8a29f6d1947"
      },
      "source": [
        "adjacency_matrix_a = [[\"\", \"e1\", \"\", \"\", \"\"], # A\n",
        "                      [\"e1\", \"\", \"e3\", \"e2\", \"\"], # B\n",
        "                      [\"\", \"e3\", \"\", \"e4,e5\", \"\"], # C\n",
        "                      [\"\", \"e2\", \"e4,e5\", \"\", \"e6\"], # D\n",
        "                      [\"\", \"\", \"\", \"e6\", \"\"]] # E\n",
        "                      # A B C D E\n",
        "adjacency_matrix_b = [[\"\", \"e1_\", \"\", \"\", \"\"], # F\n",
        "                      [\"e1_\", \"\", \"e3_\", \"e2_\", \"\"], # G\n",
        "                      [\"\", \"e3_\", \"\", \"e4_,e5_\", \"\"], # H\n",
        "                      [\"\", \"e2_\", \"e4_,e5_\", \"\", \"e6_\"], # I\n",
        "                      [\"\", \"\", \"\", \"e6_\", \"\"]] # J\n",
        "                      # F G H I J\n",
        "\n",
        "a_vertices = [\"A\", \"B\", \"C\", \"D\", \"E\"]\n",
        "b_vertices = [\"F\", \"G\", \"H\", \"I\", \"J\"]\n",
        "adjacency_matrix_a, adjacency_matrix_b"
      ],
      "execution_count": null,
      "outputs": [
        {
          "output_type": "execute_result",
          "data": {
            "text/plain": [
              "([['', 'e1', '', '', ''],\n",
              "  ['e1', '', 'e3', 'e2', ''],\n",
              "  ['', 'e3', '', 'e4,e5', ''],\n",
              "  ['', 'e2', 'e4,e5', '', 'e6'],\n",
              "  ['', '', '', 'e6', '']],\n",
              " [['', 'e1_', '', '', ''],\n",
              "  ['e1_', '', 'e3_', 'e2_', ''],\n",
              "  ['', 'e3_', '', 'e4_,e5_', ''],\n",
              "  ['', 'e2_', 'e4_,e5_', '', 'e6_'],\n",
              "  ['', '', '', 'e6_', '']])"
            ]
          },
          "metadata": {
            "tags": []
          },
          "execution_count": 166
        }
      ]
    },
    {
      "cell_type": "code",
      "metadata": {
        "id": "81AYDffrfbGL"
      },
      "source": [
        "def TraverseGraph(edges_flag, vertices_flag, edge_pair, vertex, p, unexplGE):\n",
        "  p.append(vertex)\n",
        "  vertices_flag[vertex]['explored'] = True\n",
        "  unexplGE -= 1\n",
        "  for _edge in edge_pair[vertex]:\n",
        "    _v2 = edge_pair[vertex][_edge]\n",
        "    if not edges_flag[_edge] and vertices_flag[_v2]['explored']:\n",
        "      # print(\"masuk sini\")\n",
        "      p.append(_edge)\n",
        "      edges_flag[_edge] = True\n",
        "      unexplGE -= 0\n",
        "      p.append(edge_pair[vertex][_edge])\n",
        "      vertices_flag[vertex]['num_unexplored_edges'] -= 1\n",
        "      vertices_flag[edge_pair[vertex][_edge]]['num_unexplored_edges'] -= 1\n",
        "\n",
        "      if unexplGE > 0:\n",
        "        p.append(_edge)\n",
        "        p.append(vertex)\n",
        "      # break\n",
        "      # print('zz: ', unexplGE)\n",
        "    # print(_edge, _v2)\n",
        "    # break\n",
        "\n",
        "  while vertices_flag[vertex]['num_unexplored_edges'] > 0:\n",
        "    # print(edge_pair[vertex])\n",
        "    _edge = min([i for i in edge_pair[vertex].keys() if edges_flag[i] == False and vertices_flag[edge_pair[vertex][i]]['explored'] == False], \n",
        "                key=(lambda k: vertices_flag[edge_pair[vertex][k]]['num_unexplored_edges']))\n",
        "    # print('next edge:', _edge)\n",
        "    p.append(_edge)\n",
        "    edges_flag[_edge] = True\n",
        "    unexplGE -= 1\n",
        "    vertices_flag[vertex]['num_unexplored_edges'] -= 1\n",
        "    vertices_flag[edge_pair[vertex][_edge]]['num_unexplored_edges'] -= 1\n",
        "    unexplGE = TraverseGraph(edges_flag, vertices_flag, edge_pair, edge_pair[vertex][_edge], p, unexplGE)\n",
        "    # print('unex: ', unexplGE)\n",
        "    # break\n",
        "    if unexplGE <= 0:\n",
        "      break\n",
        "  # print(\"test\")\n",
        "  return unexplGE"
      ],
      "execution_count": null,
      "outputs": []
    },
    {
      "cell_type": "code",
      "metadata": {
        "id": "hcpNze1rdKic"
      },
      "source": [
        "def GLA(adjacency_matrix, vertices):\n",
        "  assert len(adjacency_matrix) == len(vertices), \"Dimensi matrix NxN harus sama dengan jumlah vertex\"\n",
        "  edges_flag = {} # Flag edge sudah dikunjungi atau belum -> {ket_edge: boolean}\n",
        "\n",
        "  vertices_flag = {} # Flag vertice sudah dikunjungi atau belum, dict of dict -> {key_vertex: {explored: boolean, num_unexplored_edges: int}}\n",
        "  for _vertex in vertices:\n",
        "    vertices_flag[_vertex] = {'explored': False, 'num_unexplored_edges': 0}\n",
        "\n",
        "\n",
        "  edge_pair = {} # Pasangan vertex dan edge pada sebuah vertex (nahloh bingung) -> {key_vertex: {dict_of_pasangan}}\n",
        "  for i in range(len(vertices)):\n",
        "    for j in range(len(vertices)):\n",
        "      if len(adjacency_matrix[i][j]) > 0: # buka empty string, ada edge\n",
        "        _edges = adjacency_matrix[i][j].split(',')\n",
        "        for _edge in _edges:\n",
        "          edges_flag[_edge] = False\n",
        "          if vertices[i] not in edge_pair:\n",
        "            edge_pair[vertices[i]] = {} # inisialisasi dict kalau vertex belom ada di dict\n",
        "          edge_pair[vertices[i]][_edge] = vertices[j]\n",
        "          vertices_flag[vertices[i]]['num_unexplored_edges'] += 1\n",
        "\n",
        "  # print('vertices_flag\\n', vertices_flag)\n",
        "  # print('edges_flag\\n', edges_flag)\n",
        "  # print('edge_pair\\n', edge_pair)\n",
        "\n",
        "  init_vertex = min(vertices_flag.keys(), key=(lambda k: vertices_flag[k]['num_unexplored_edges'])) # Ambil vertex dengan degree terkecil\n",
        "  # print(init_vertex)\n",
        "\n",
        "  p = []\n",
        "  unexplGE = len(vertices) + len(edges_flag)\n",
        "  # print(unexplGE)\n",
        "  TraverseGraph(edges_flag, vertices_flag, edge_pair, init_vertex, p, unexplGE)\n",
        "  return p"
      ],
      "execution_count": null,
      "outputs": []
    },
    {
      "cell_type": "code",
      "metadata": {
        "colab": {
          "base_uri": "https://localhost:8080/"
        },
        "id": "9201am4Ih2nt",
        "outputId": "4fdf83f0-82dd-4088-ad75-806b7cc533fd"
      },
      "source": [
        "linearized_graph = GLA(adjacency_matrix_a, a_vertices)\n",
        "'->'.join(linearized_graph), len(linearized_graph)"
      ],
      "execution_count": null,
      "outputs": [
        {
          "output_type": "execute_result",
          "data": {
            "text/plain": [
              "('A->e1->B->e3->C->e4->D->e2->B->e2->D->e5->C->e5->D->e6->E', 17)"
            ]
          },
          "metadata": {
            "tags": []
          },
          "execution_count": 171
        }
      ]
    },
    {
      "cell_type": "code",
      "metadata": {
        "colab": {
          "base_uri": "https://localhost:8080/",
          "height": 35
        },
        "id": "94IJTBPQfVnG",
        "outputId": "8f5a68c0-5bb3-40e2-8064-c00fcb3e0be1"
      },
      "source": [
        "_test = {'a': {'explored': False, 'num_unexplored_edges': 5},\n",
        "         'b': {'explored': False, 'num_unexplored_edges': 3}}\n",
        "\n",
        "min(_test.keys(), key=(lambda k: _test[k]['num_unexplored_edges']))"
      ],
      "execution_count": null,
      "outputs": [
        {
          "output_type": "execute_result",
          "data": {
            "application/vnd.google.colaboratory.intrinsic+json": {
              "type": "string"
            },
            "text/plain": [
              "'b'"
            ]
          },
          "metadata": {
            "tags": []
          },
          "execution_count": 12
        }
      ]
    },
    {
      "cell_type": "code",
      "metadata": {
        "id": "VN_aOuzqgCVh"
      },
      "source": [
        "def PMG():\n",
        "  # TODO: fungsi parameterized match graph\n",
        "  pass"
      ],
      "execution_count": null,
      "outputs": []
    },
    {
      "cell_type": "code",
      "metadata": {
        "id": "zfeDYscLAGBd"
      },
      "source": [
        ""
      ],
      "execution_count": null,
      "outputs": []
    }
  ]
}