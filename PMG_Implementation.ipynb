{
  "nbformat": 4,
  "nbformat_minor": 0,
  "metadata": {
    "colab": {
      "name": "Implementasi TGO Jeki cen.ipynb",
      "provenance": [],
      "toc_visible": true,
      "authorship_tag": "ABX9TyP4jT/mzZT/ztjUnKC+TyLO",
      "include_colab_link": true
    },
    "kernelspec": {
      "name": "python3",
      "display_name": "Python 3"
    },
    "language_info": {
      "name": "python"
    }
  },
  "cells": [
    {
      "cell_type": "markdown",
      "metadata": {
        "id": "view-in-github",
        "colab_type": "text"
      },
      "source": [
        "<a href=\"https://colab.research.google.com/github/coll-j/Parameterized-Match-Graph-Implementation/blob/main/PMG_Implementation.ipynb\" target=\"_parent\"><img src=\"https://colab.research.google.com/assets/colab-badge.svg\" alt=\"Open In Colab\"/></a>"
      ]
    },
    {
      "cell_type": "markdown",
      "metadata": {
        "id": "DWv0zwIIbTlI"
      },
      "source": [
        "\n",
        "Reference:\n",
        "https://www.microsoft.com/en-us/research/wp-content/uploads/2016/02/samehe-graphisomorphism.spire2013.pdf"
      ]
    },
    {
      "cell_type": "markdown",
      "metadata": {
        "id": "_WR5vnmCycv0"
      },
      "source": [
        "# Test Cases"
      ]
    },
    {
      "cell_type": "markdown",
      "metadata": {
        "id": "eGuzB7_uyedC"
      },
      "source": [
        "## Test 1"
      ]
    },
    {
      "cell_type": "code",
      "metadata": {
        "colab": {
          "base_uri": "https://localhost:8080/"
        },
        "id": "i7RdsPyzv9FQ",
        "outputId": "41264fd9-8c0f-40c9-eb23-07e4e0d49f17"
      },
      "source": [
        "# Test Case 1\n",
        "adjacency_matrix_a = {'A': [\"\", \"e1\", \"\", \"\", \"\"], # A\n",
        "                      'B': [\"e1\", \"\", \"e3\", \"e2\", \"\"], # B\n",
        "                      'C': [\"\", \"e3\", \"\", \"e4,e5\", \"\"], # C\n",
        "                      'D': [\"\", \"e2\", \"e4,e5\", \"\", \"e6\"], # D\n",
        "                      'E': [\"\", \"\", \"\", \"e6\", \"\"]} # E\n",
        "                      # A B C D E\n",
        "adjacency_matrix_b = {'F': [\"\", \"e1_\", \"\", \"\", \"\"], # F\n",
        "                      'G': [\"e1_\", \"\", \"e3_\", \"e2_\", \"\"], # G\n",
        "                      'H': [\"\", \"e3_\", \"\", \"e4_,e5_\", \"\"], # H\n",
        "                      'I': [\"\", \"e2_\", \"e4_,e5_\", \"\", \"e6_\"], # I\n",
        "                      'J': [\"\", \"\", \"\", \"e6_\", \"\"]} # J\n",
        "                      # F G H I J\n",
        "\n",
        "adjacency_matrix_a, adjacency_matrix_b"
      ],
      "execution_count": 50,
      "outputs": [
        {
          "output_type": "execute_result",
          "data": {
            "text/plain": [
              "({'A': ['', 'e1', '', '', ''],\n",
              "  'B': ['e1', '', 'e3', 'e2', ''],\n",
              "  'C': ['', 'e3', '', 'e4,e5', ''],\n",
              "  'D': ['', 'e2', 'e4,e5', '', 'e6'],\n",
              "  'E': ['', '', '', 'e6', '']},\n",
              " {'F': ['', 'e1_', '', '', ''],\n",
              "  'G': ['e1_', '', 'e3_', 'e2_', ''],\n",
              "  'H': ['', 'e3_', '', 'e4_,e5_', ''],\n",
              "  'I': ['', 'e2_', 'e4_,e5_', '', 'e6_'],\n",
              "  'J': ['', '', '', 'e6_', '']})"
            ]
          },
          "metadata": {
            "tags": []
          },
          "execution_count": 50
        }
      ]
    },
    {
      "cell_type": "markdown",
      "metadata": {
        "id": "eXh4VJpuyg5w"
      },
      "source": [
        "## Test 2"
      ]
    },
    {
      "cell_type": "code",
      "metadata": {
        "colab": {
          "base_uri": "https://localhost:8080/"
        },
        "id": "xWvdswxYbPg4",
        "outputId": "f4f8d47e-4bf6-408d-e091-af04d5ed37c1"
      },
      "source": [
        "# Test Case 2\n",
        "adjacency_matrix_a = {'A': [\"\", \"e1\", \"\", \"\", \"e7\"], # A\n",
        "                      'B': [\"e1\", \"\", \"e3\", \"e2\", \"\"], # B\n",
        "                      'C': [\"\", \"e3\", \"\", \"e4,e5\", \"\"], # C\n",
        "                      'D': [\"\", \"e2\", \"e4,e5\", \"\", \"e6\"], # D\n",
        "                      'E': [\"e7\", \"\", \"\", \"e6\", \"\"]} # E\n",
        "                      # A B C D E\n",
        "adjacency_matrix_b = {'F': [\"\", \"e1_\", \"\", \"\", \"\"], # F\n",
        "                      'G': [\"e1_\", \"\", \"e3_\", \"e2_\", \"\"], # G\n",
        "                      'H': [\"\", \"e3_\", \"\", \"e4_,e5_\", \"\"], # H\n",
        "                      'I': [\"\", \"e2_\", \"e4_,e5_\", \"\", \"e6_\"], # I\n",
        "                      'J': [\"\", \"\", \"\", \"e6_\", \"\"]} # J\n",
        "                      # F G H I J\n",
        "\n",
        "adjacency_matrix_a, adjacency_matrix_b"
      ],
      "execution_count": 147,
      "outputs": [
        {
          "output_type": "execute_result",
          "data": {
            "text/plain": [
              "({'A': ['', 'e1', '', '', 'e7'],\n",
              "  'B': ['e1', '', 'e3', 'e2', ''],\n",
              "  'C': ['', 'e3', '', 'e4,e5', ''],\n",
              "  'D': ['', 'e2', 'e4,e5', '', 'e6'],\n",
              "  'E': ['e7', '', '', 'e6', '']},\n",
              " {'F': ['', 'e1_', '', '', ''],\n",
              "  'G': ['e1_', '', 'e3_', 'e2_', ''],\n",
              "  'H': ['', 'e3_', '', 'e4_,e5_', ''],\n",
              "  'I': ['', 'e2_', 'e4_,e5_', '', 'e6_'],\n",
              "  'J': ['', '', '', 'e6_', '']})"
            ]
          },
          "metadata": {
            "tags": []
          },
          "execution_count": 147
        }
      ]
    },
    {
      "cell_type": "markdown",
      "metadata": {
        "id": "axNuuYxXyi04"
      },
      "source": [
        "## Test 3"
      ]
    },
    {
      "cell_type": "markdown",
      "metadata": {
        "id": "rApgv78CyZL_"
      },
      "source": [
        "![isomorphism.png](data:image/png;base64,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)"
      ]
    },
    {
      "cell_type": "code",
      "metadata": {
        "colab": {
          "base_uri": "https://localhost:8080/"
        },
        "id": "zAeRpEizyk1I",
        "outputId": "08f0a7d7-d4f9-42d0-da05-95f8ea4aae20"
      },
      "source": [
        "# Test Case 3\n",
        "adjacency_matrix_a = {'A': [\"\", \"e1\", \"\", \"\", \"e2\"], # A - V1\n",
        "                      'B': [\"e1\", \"\", \"e3\", \"\", \"\"], # B - V2\n",
        "                      'C': [\"\", \"e3\", \"\", \"e4\", \"\"], # C - V3\n",
        "                      'D': [\"\", \"\", \"e4\", \"\", \"e5\"], # D - V4\n",
        "                      'E': [\"e2\", \"\", \"\", \"e5\", \"\"]} # E - V5\n",
        "                      # A B C D E\n",
        "adjacency_matrix_b = {'F': [\"e2_\", \"\", \"\", \"e5_\", \"\"], # F - V5'\n",
        "                      'G': [\"\", \"\", \"e4_\", \"\", \"e5_\"], # G - V4'\n",
        "                      'H': [\"\", \"e3_\", \"\", \"e4_\", \"\"], # H - V3'\n",
        "                      'I': [\"e1_\", \"\", \"e3_\", \"\", \"\"], # I - V2'\n",
        "                      'J': [\"\", \"e1_\", \"\", \"\", \"e2_\"]} # J - V1'\n",
        "                      # J I H G F\n",
        "\n",
        "adjacency_matrix_a, adjacency_matrix_b"
      ],
      "execution_count": 41,
      "outputs": [
        {
          "output_type": "execute_result",
          "data": {
            "text/plain": [
              "({'A': ['', 'e1', '', '', 'e2'],\n",
              "  'B': ['e1', '', 'e3', '', ''],\n",
              "  'C': ['', 'e3', '', 'e4', ''],\n",
              "  'D': ['', '', 'e4', '', 'e5'],\n",
              "  'E': ['e2', '', '', 'e5', '']},\n",
              " {'F': ['e2_', '', '', 'e5_', ''],\n",
              "  'G': ['', '', 'e4_', '', 'e5_'],\n",
              "  'H': ['', 'e3_', '', 'e4_', ''],\n",
              "  'I': ['e1_', '', 'e3_', '', ''],\n",
              "  'J': ['', 'e1_', '', '', 'e2_']})"
            ]
          },
          "metadata": {
            "tags": []
          },
          "execution_count": 41
        }
      ]
    },
    {
      "cell_type": "markdown",
      "metadata": {
        "id": "RndHMeaMwPX8"
      },
      "source": [
        "# Method Functions"
      ]
    },
    {
      "cell_type": "markdown",
      "metadata": {
        "id": "cwHEignY5LY8"
      },
      "source": [
        "## Helper"
      ]
    },
    {
      "cell_type": "code",
      "metadata": {
        "id": "RDa3YoO03yAD"
      },
      "source": [
        "def findPair(adjacency_matrix, vertex, edge):\n",
        "  \"\"\"\n",
        "  Mencari pasangan vertex dalam suatu graf berdasarkan edge yang menghubungkan\n",
        "\n",
        "  Input:\n",
        "  adjacency_matrix -> list; representasi matrix dari graf berukuran NxN\n",
        "  vertex -> string; vertex yang ingin dicari pasangannya\n",
        "  edge -> string; edge yang menghubungkan\n",
        "\n",
        "  Output:\n",
        "  v -> vertex pasangan\n",
        "  \"\"\"\n",
        "  for v in [v for v in adjacency_matrix.keys() if v != vertex]:\n",
        "    for edges in adjacency_matrix[v]:\n",
        "      # print('v e', v, e)\n",
        "      for e in edges.split(\",\"):\n",
        "        if e == edge:\n",
        "          return v"
      ],
      "execution_count": 45,
      "outputs": []
    },
    {
      "cell_type": "code",
      "metadata": {
        "id": "-7AezuvfmtRE"
      },
      "source": [
        "def parseEdgePair(adjacency_matrix):\n",
        "  \"\"\"\n",
        "  Mendapatkan edge pada setiap vertex beserta vertex pasangannya\n",
        "\n",
        "  Input:\n",
        "  adjacency_matrix -> list; representasi matrix dari graf berukuran NxN\n",
        "\n",
        "  Output:\n",
        "  edge_pair -> dictionary; berisi setiap vertex sebagai key dan \n",
        "  value berupa dict dengan key adalah edge dan value adalah vertex pasangannya\n",
        "  \"\"\"\n",
        "  edge_pair = {}\n",
        "  for i in adjacency_matrix.keys():\n",
        "    for j in range(len(adjacency_matrix)):\n",
        "      if len(adjacency_matrix[i][j]) > 0: # bukan empty string, ada edge\n",
        "        _edges = adjacency_matrix[i][j].split(',')\n",
        "        for _edge in _edges:\n",
        "          if i not in edge_pair:\n",
        "            edge_pair[i] = {} # inisialisasi dict kalau vertex belom ada di dict\n",
        "          edge_pair[i][_edge] = findPair(adjacency_matrix, i, _edge)\n",
        "\n",
        "  return edge_pair"
      ],
      "execution_count": 46,
      "outputs": []
    },
    {
      "cell_type": "code",
      "metadata": {
        "id": "oEGaRvG9yIxU"
      },
      "source": [
        "def count_degree(list_of_edges):\n",
        "  \"\"\"\n",
        "  Menghitung derajat dari sebuah vertex\n",
        "\n",
        "  Input:\n",
        "  list_of_edges -> list; edge yang terhubung pada vertex tersebut\n",
        "\n",
        "  Output:\n",
        "  len(non_empty) -> int; jumlah edge yang terhubung pada vertex\n",
        "  \"\"\"\n",
        "  non_empty = []\n",
        "  for v in list_of_edges:\n",
        "    if len(v) > 0:\n",
        "      for e in v.split(','):\n",
        "        non_empty.append(e)\n",
        "  return len(non_empty)"
      ],
      "execution_count": 47,
      "outputs": []
    },
    {
      "cell_type": "markdown",
      "metadata": {
        "id": "aDe7ZBi95NrJ"
      },
      "source": [
        "## GLA (Graph Linearization Algorithm)"
      ]
    },
    {
      "cell_type": "code",
      "metadata": {
        "id": "81AYDffrfbGL"
      },
      "source": [
        "def TraverseGraph(edges_flag, vertices_flag, edge_pair, vertex, p, unexplGE):\n",
        "  \"\"\"\n",
        "  Fungsi rekursif pembantu untuk GLA. \n",
        "  Fungsi ini akan traverse (melintasi) ke seluruh elemen graf\n",
        "\n",
        "  Input:\n",
        "  edges_flag -> dictionary; berisi flag edge sudah dikunjungi atau belum\n",
        "  vertices_flag -> dictionary; berisi flag dan jumlah edge dari vertex yang belum dikunjungi\n",
        "  edge_pair -> dictionary; berisi vertex dengan edge dan pasangannya\n",
        "  vertex -> string; vertex yang sedang dikunjungi\n",
        "  p -> list; walk linearisasi dari graf\n",
        "  unexplGE -> int; jumlah edge dan vertex yang belum dikunjungi\n",
        "\n",
        "  Output:\n",
        "  unexplGE -> int; jumlah edge dan vertex yang belum dikunjungi\n",
        "  \"\"\"\n",
        "  p.append(vertex)\n",
        "  vertices_flag[vertex]['explored'] = True\n",
        "  unexplGE -= 1\n",
        "  for _edge in edge_pair[vertex]:\n",
        "    _v2 = edge_pair[vertex][_edge]\n",
        "    if not edges_flag[_edge] and vertices_flag[_v2]['explored']: # jika edge mengarah ke vertex yang sudah dikunjungi\n",
        "      p.append(_edge)\n",
        "      edges_flag[_edge] = True\n",
        "      vertices_flag[vertex]['num_unexplored_edges'] -= 1\n",
        "      vertices_flag[edge_pair[vertex][_edge]]['num_unexplored_edges'] -= 1\n",
        "      unexplGE = TraverseGraph(edges_flag, vertices_flag, edge_pair, edge_pair[vertex][_edge], p, unexplGE)\n",
        "\n",
        "      if unexplGE > 0:\n",
        "        p.append(_edge)\n",
        "        p.append(vertex)\n",
        "\n",
        "  # untuk edge yg mengarah ke vertex yg belum dikunjungi, \n",
        "  # diurutkan dai edge yang menghubungkan\n",
        "  # vertex yang memiliki jumlah edge belum dikunjungi paling sedikit\n",
        "  while vertices_flag[vertex]['num_unexplored_edges'] > 0: \n",
        "    _edge = min([i for i in edge_pair[vertex].keys() if edges_flag[i] == False ], \n",
        "                key=(lambda k: vertices_flag[edge_pair[vertex][k]]['num_unexplored_edges']))\n",
        "    p.append(_edge)\n",
        "    edges_flag[_edge] = True\n",
        "    unexplGE -= 1\n",
        "    vertices_flag[vertex]['num_unexplored_edges'] -= 1\n",
        "    vertices_flag[edge_pair[vertex][_edge]]['num_unexplored_edges'] -= 1\n",
        "    unexplGE = TraverseGraph(edges_flag, vertices_flag, edge_pair, edge_pair[vertex][_edge], p, unexplGE)\n",
        "    if unexplGE <= 0:\n",
        "      break\n",
        "  return unexplGE"
      ],
      "execution_count": 48,
      "outputs": []
    },
    {
      "cell_type": "code",
      "metadata": {
        "id": "hcpNze1rdKic"
      },
      "source": [
        "def GLA(adjacency_matrix):\n",
        "  \"\"\"\n",
        "  Linearisasi graf\n",
        "\n",
        "  Input:\n",
        "  adjacency_matrix -> list; representasi matrix dari graf berukuran NxN\n",
        "\n",
        "  Output:\n",
        "  p -> list; walk linearisasi dari graf\n",
        "  \"\"\"\n",
        "  edges_flag = {} # Flag edge sudah dikunjungi atau belum -> {ket_edge: boolean}\n",
        "\n",
        "  vertices_flag = {} # Flag vertice sudah dikunjungi atau belum, dict of dict -> {key_vertex: {explored: boolean, num_unexplored_edges: int}}\n",
        "  for _vertex in adjacency_matrix.keys():\n",
        "    vertices_flag[_vertex] = {'explored': False, 'num_unexplored_edges': 0}\n",
        "\n",
        "\n",
        "  edge_pair = parseEdgePair(adjacency_matrix)\n",
        "  for i in edge_pair:\n",
        "    vertices_flag[i]['num_unexplored_edges'] = len(edge_pair[i]) # menyimpan jumlah edge yang belum dikunjungi\n",
        "    for j in edge_pair[i]:\n",
        "      edges_flag[j] = False\n",
        "\n",
        "  init_vertex = min(vertices_flag.keys(), key=(lambda k: vertices_flag[k]['num_unexplored_edges'])) # Ambil vertex dengan degree terkecil\n",
        "\n",
        "  p = [] # inisialisasi p\n",
        "  unexplGE = len(adjacency_matrix) + len(edges_flag)\n",
        "  TraverseGraph(edges_flag, vertices_flag, edge_pair, init_vertex, p, unexplGE)\n",
        "  return p"
      ],
      "execution_count": 56,
      "outputs": []
    },
    {
      "cell_type": "markdown",
      "metadata": {
        "id": "HEcfjvzv5Po_"
      },
      "source": [
        "## PMG (Parameterized Matching on multi-Graph)"
      ]
    },
    {
      "cell_type": "code",
      "metadata": {
        "id": "JUxWUBgf6uKU"
      },
      "source": [
        "def ExtendMatch(vertex, p, p_index, f_ge, g_ge, edge_pair_1, edge_pair_2):\n",
        "  \"\"\"\n",
        "  Fungsi rekursif pembantu untuk melanjutkan pencocokan graf\n",
        "\n",
        "  Input:\n",
        "  vertex -> string; vertex dari graf yang telah dicocokkan\n",
        "  p -> list; walk linearisasi graf pertama\n",
        "  p_index -> int; index p yang saat ini dicocokkan\n",
        "  f_ge -> dictionary; hasil pencocokan graf kedua dengan graf pertama\n",
        "  g_ge -> dictionary; flag apakah vertex atau edge graf kedua sudah dicocokkan\n",
        "  edge_pair_1 -> dictionary; pasangan edge vertex graf pertama\n",
        "  edge_pair_2 -> dictionary; pasangan edge vertex graf kedua\n",
        "\n",
        "  Output:\n",
        "  True jika kedua graf isomorfik. False jika tidak.\n",
        "  f_ge_ -> dictionary; hasil pencocokan graf kedua dengan graf pertama\n",
        "  \"\"\"\n",
        "  if p_index >= len(p)-1: # base case\n",
        "    return True, f_ge\n",
        "  p_next_edge = p[p_index+1] # edge selanjutnya dari walk\n",
        "  p_next_vertex = p[p_index+2] # vertex selanjutnya dari walk\n",
        "  if f_ge[p_next_vertex] is None:\n",
        "    for edge in edge_pair_2[vertex]:\n",
        "      vertex_pair = edge_pair_2[vertex][edge]\n",
        "      if g_ge[vertex_pair] == False and g_ge[edge] == False \\\n",
        "        and (count_degree(edge_pair_2[vertex_pair]) == count_degree (edge_pair_1[p_next_vertex])): # jika vertex dan edge pada graf kedua belum dipasangkan\n",
        "        f_ge_ = f_ge.copy()\n",
        "        g_ge_ = g_ge.copy()\n",
        "\n",
        "        f_ge_[p_next_edge] = edge\n",
        "        f_ge_[p_next_vertex] = vertex_pair\n",
        "        g_ge_[edge] = True\n",
        "        g_ge_[vertex_pair] = True\n",
        "\n",
        "        flag, f_ge_ =  ExtendMatch(vertex_pair, p, p_index + 2, f_ge_, g_ge_, edge_pair_1, edge_pair_2)\n",
        "        if flag:\n",
        "          return True, f_ge_\n",
        "  else: # jika vertex selanjutnya sudah dipasangkan\n",
        "    vertex_pair = f_ge[p_next_vertex]\n",
        "    if f_ge[p_next_edge] is None:\n",
        "      for edge in [i for i in edge_pair_2[vertex] if edge_pair_2[vertex][i] == vertex_pair and g_ge[i] == False]:\n",
        "        f_ge_ = f_ge.copy()\n",
        "        g_ge_ = g_ge.copy()\n",
        "\n",
        "        f_ge_[p_next_edge] = edge\n",
        "        g_ge_[edge] = True\n",
        "\n",
        "        flag, f_ge_ = ExtendMatch(vertex_pair, p, p_index + 2, f_ge_, g_ge_, edge_pair_1, edge_pair_2)\n",
        "        if flag:\n",
        "          return True, f_ge_\n",
        "    else: # jika edge selanjutnya sudah dipasangkan\n",
        "      flag, f_ge_ = ExtendMatch(vertex_pair, p, p_index + 2, f_ge, g_ge, edge_pair_1, edge_pair_2)\n",
        "      if flag:\n",
        "        return True, f_ge_\n",
        "  return False, None"
      ],
      "execution_count": 60,
      "outputs": []
    },
    {
      "cell_type": "code",
      "metadata": {
        "id": "VN_aOuzqgCVh"
      },
      "source": [
        "def PMG(adjacency_matrix_1, adjacency_matrix_2):\n",
        "  \"\"\"\n",
        "  Mencocokkan parameter (elemen) pada kedua elemen\n",
        "\n",
        "  Output:\n",
        "  True jika kedua graf isomorfik. False jika tidak.\n",
        "  f_ge_ -> dictionary; hasil pencocokan graf kedua dengan graf pertama\n",
        "  \"\"\"\n",
        "  p = GLA(adjacency_matrix_1)\n",
        "  f_ge = {} # {edge_atau_vertex_1: edge_atau_vertex_2}\n",
        "  g_ge = {} # {edge_atau_vertex_2: boolean}\n",
        "  edge_pair_1 = parseEdgePair(adjacency_matrix_1)\n",
        "  edge_pair_2 = parseEdgePair(adjacency_matrix_2)\n",
        "  for ge in p:\n",
        "    f_ge[ge] = None\n",
        "  for v in adjacency_matrix_2.keys():\n",
        "    g_ge[v] = False\n",
        "    for _e in adjacency_matrix_2[v]:\n",
        "      if len(_e) > 0:\n",
        "        for e in _e.split(','):\n",
        "          g_ge[e] =  False\n",
        "\n",
        "  for vertex_2 in adjacency_matrix_2.keys():\n",
        "    if count_degree(adjacency_matrix_2[vertex_2]) == count_degree(adjacency_matrix_1[p[0]]): # jika derajat pada vertex pertama kedua graf sama\n",
        "      f_ge_ = f_ge.copy()\n",
        "      g_ge_ = g_ge.copy()\n",
        "\n",
        "      f_ge_[p[0]] = vertex_2\n",
        "      g_ge_[vertex_2] = True\n",
        "      flag, f_ge_ = ExtendMatch(vertex_2, p, 0, f_ge_, g_ge_, edge_pair_1, edge_pair_2)\n",
        "      if flag:\n",
        "        return True, f_ge_\n",
        "  return False, None"
      ],
      "execution_count": 61,
      "outputs": []
    },
    {
      "cell_type": "markdown",
      "metadata": {
        "id": "9nAupP4_wJCF"
      },
      "source": [
        "# Testing"
      ]
    },
    {
      "cell_type": "code",
      "metadata": {
        "colab": {
          "base_uri": "https://localhost:8080/"
        },
        "id": "9201am4Ih2nt",
        "outputId": "df172431-140b-4bb8-e922-0f1f642d2c69"
      },
      "source": [
        "linearized_graph = GLA(adjacency_matrix_a)\n",
        "'->'.join(linearized_graph), len(linearized_graph)"
      ],
      "execution_count": 55,
      "outputs": [
        {
          "output_type": "stream",
          "text": [
            "{'A': {'e1': 'B'}, 'B': {'e1': 'A', 'e3': 'C', 'e2': 'D'}, 'C': {'e3': 'B', 'e4': 'D', 'e5': 'D'}, 'D': {'e2': 'B', 'e4': 'C', 'e5': 'C', 'e6': 'E'}, 'E': {'e6': 'D'}}\n",
            "{'e1': False, 'e3': False, 'e2': False, 'e4': False, 'e5': False, 'e6': False}\n",
            "{'A': {'explored': False, 'num_unexplored_edges': 1}, 'B': {'explored': False, 'num_unexplored_edges': 3}, 'C': {'explored': False, 'num_unexplored_edges': 3}, 'D': {'explored': False, 'num_unexplored_edges': 4}, 'E': {'explored': False, 'num_unexplored_edges': 1}}\n"
          ],
          "name": "stdout"
        },
        {
          "output_type": "execute_result",
          "data": {
            "text/plain": [
              "('A->e1->B->e3->C->e4->D->e2->B->e2->D->e5->C->e5->D->e6->E', 17)"
            ]
          },
          "metadata": {
            "tags": []
          },
          "execution_count": 55
        }
      ]
    },
    {
      "cell_type": "code",
      "metadata": {
        "colab": {
          "base_uri": "https://localhost:8080/"
        },
        "id": "pmrQ5ZQ12HAO",
        "outputId": "007b4faa-c74a-4580-d031-6a07afc495a2"
      },
      "source": [
        "linearized_graph = GLA(adjacency_matrix_b)\n",
        "'->'.join(linearized_graph), len(linearized_graph)"
      ],
      "execution_count": 37,
      "outputs": [
        {
          "output_type": "execute_result",
          "data": {
            "text/plain": [
              "('F->e1_->G->e3_->H->e4_->I->e2_->G->e2_->I->e5_->H->e5_->I->e6_->J', 17)"
            ]
          },
          "metadata": {
            "tags": []
          },
          "execution_count": 37
        }
      ]
    },
    {
      "cell_type": "code",
      "metadata": {
        "id": "zfeDYscLAGBd",
        "colab": {
          "base_uri": "https://localhost:8080/"
        },
        "outputId": "1d80422a-7150-4163-c752-86056fa52b41"
      },
      "source": [
        "PMG(adjacency_matrix_a, adjacency_matrix_b)"
      ],
      "execution_count": 57,
      "outputs": [
        {
          "output_type": "execute_result",
          "data": {
            "text/plain": [
              "(True,\n",
              " {'A': 'F',\n",
              "  'B': 'G',\n",
              "  'C': 'H',\n",
              "  'D': 'I',\n",
              "  'E': 'J',\n",
              "  'e1': 'e1_',\n",
              "  'e2': 'e2_',\n",
              "  'e3': 'e3_',\n",
              "  'e4': 'e4_',\n",
              "  'e5': 'e5_',\n",
              "  'e6': 'e6_'})"
            ]
          },
          "metadata": {
            "tags": []
          },
          "execution_count": 57
        }
      ]
    },
    {
      "cell_type": "code",
      "metadata": {
        "id": "V-FEQsCb2dfl"
      },
      "source": [
        ""
      ],
      "execution_count": null,
      "outputs": []
    }
  ]
}