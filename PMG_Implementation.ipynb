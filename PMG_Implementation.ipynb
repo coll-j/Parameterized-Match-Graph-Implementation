{
  "nbformat": 4,
  "nbformat_minor": 0,
  "metadata": {
    "colab": {
      "name": "Implementasi TGO Jeki cen.ipynb",
      "provenance": [],
      "toc_visible": true,
      "authorship_tag": "ABX9TyMbSkFUAriB6LiaiOAxRi9O",
      "include_colab_link": true
    },
    "kernelspec": {
      "name": "python3",
      "display_name": "Python 3"
    },
    "language_info": {
      "name": "python"
    }
  },
  "cells": [
    {
      "cell_type": "markdown",
      "metadata": {
        "id": "view-in-github",
        "colab_type": "text"
      },
      "source": [
        "<a href=\"https://colab.research.google.com/github/coll-j/Parameterized-Match-Graph-Implementation/blob/main/PMG_Implementation.ipynb\" target=\"_parent\"><img src=\"https://colab.research.google.com/assets/colab-badge.svg\" alt=\"Open In Colab\"/></a>"
      ]
    },
    {
      "cell_type": "markdown",
      "metadata": {
        "id": "DWv0zwIIbTlI"
      },
      "source": [
        "\n",
        "Reference:\n",
        "https://www.microsoft.com/en-us/research/wp-content/uploads/2016/02/samehe-graphisomorphism.spire2013.pdf"
      ]
    },
    {
      "cell_type": "markdown",
      "metadata": {
        "id": "_WR5vnmCycv0"
      },
      "source": [
        "# Test Cases"
      ]
    },
    {
      "cell_type": "markdown",
      "metadata": {
        "id": "eGuzB7_uyedC"
      },
      "source": [
        "## Test 1"
      ]
    },
    {
      "cell_type": "code",
      "metadata": {
        "colab": {
          "base_uri": "https://localhost:8080/"
        },
        "id": "i7RdsPyzv9FQ",
        "outputId": "721ef10f-c21f-44b0-86e3-994008a32d6d"
      },
      "source": [
        "# Test Case 1\n",
        "adjacency_matrix_a = {'A': [\"\", \"e1\", \"\", \"\", \"\"], # A\n",
        "                      'B': [\"e1\", \"\", \"e3\", \"e2\", \"\"], # B\n",
        "                      'C': [\"\", \"e3\", \"\", \"e4,e5\", \"\"], # C\n",
        "                      'D': [\"\", \"e2\", \"e4,e5\", \"\", \"e6\"], # D\n",
        "                      'E': [\"\", \"\", \"\", \"e6\", \"\"]} # E\n",
        "                      # A B C D E\n",
        "adjacency_matrix_b = {'F': [\"\", \"e1_\", \"\", \"\", \"\"], # F\n",
        "                      'G': [\"e1_\", \"\", \"e3_\", \"e2_\", \"\"], # G\n",
        "                      'H': [\"\", \"e3_\", \"\", \"e4_,e5_\", \"\"], # H\n",
        "                      'I': [\"\", \"e2_\", \"e4_,e5_\", \"\", \"e6_\"], # I\n",
        "                      'J': [\"\", \"\", \"\", \"e6_\", \"\"]} # J\n",
        "                      # F G H I J\n",
        "\n",
        "adjacency_matrix_a, adjacency_matrix_b"
      ],
      "execution_count": 169,
      "outputs": [
        {
          "output_type": "execute_result",
          "data": {
            "text/plain": [
              "({'A': ['', 'e1', '', '', ''],\n",
              "  'B': ['e1', '', 'e3', 'e2', ''],\n",
              "  'C': ['', 'e3', '', 'e4,e5', ''],\n",
              "  'D': ['', 'e2', 'e4,e5', '', 'e6'],\n",
              "  'E': ['', '', '', 'e6', '']},\n",
              " {'F': ['', 'e1_', '', '', ''],\n",
              "  'G': ['e1_', '', 'e3_', 'e2_', ''],\n",
              "  'H': ['', 'e3_', '', 'e4_,e5_', ''],\n",
              "  'I': ['', 'e2_', 'e4_,e5_', '', 'e6_'],\n",
              "  'J': ['', '', '', 'e6_', '']})"
            ]
          },
          "metadata": {
            "tags": []
          },
          "execution_count": 169
        }
      ]
    },
    {
      "cell_type": "markdown",
      "metadata": {
        "id": "eXh4VJpuyg5w"
      },
      "source": [
        "## Test 2"
      ]
    },
    {
      "cell_type": "code",
      "metadata": {
        "colab": {
          "base_uri": "https://localhost:8080/"
        },
        "id": "xWvdswxYbPg4",
        "outputId": "f4f8d47e-4bf6-408d-e091-af04d5ed37c1"
      },
      "source": [
        "# Test Case 2\n",
        "adjacency_matrix_a = {'A': [\"\", \"e1\", \"\", \"\", \"e7\"], # A\n",
        "                      'B': [\"e1\", \"\", \"e3\", \"e2\", \"\"], # B\n",
        "                      'C': [\"\", \"e3\", \"\", \"e4,e5\", \"\"], # C\n",
        "                      'D': [\"\", \"e2\", \"e4,e5\", \"\", \"e6\"], # D\n",
        "                      'E': [\"e7\", \"\", \"\", \"e6\", \"\"]} # E\n",
        "                      # A B C D E\n",
        "adjacency_matrix_b = {'F': [\"\", \"e1_\", \"\", \"\", \"\"], # F\n",
        "                      'G': [\"e1_\", \"\", \"e3_\", \"e2_\", \"\"], # G\n",
        "                      'H': [\"\", \"e3_\", \"\", \"e4_,e5_\", \"\"], # H\n",
        "                      'I': [\"\", \"e2_\", \"e4_,e5_\", \"\", \"e6_\"], # I\n",
        "                      'J': [\"\", \"\", \"\", \"e6_\", \"\"]} # J\n",
        "                      # F G H I J\n",
        "\n",
        "adjacency_matrix_a, adjacency_matrix_b"
      ],
      "execution_count": 147,
      "outputs": [
        {
          "output_type": "execute_result",
          "data": {
            "text/plain": [
              "({'A': ['', 'e1', '', '', 'e7'],\n",
              "  'B': ['e1', '', 'e3', 'e2', ''],\n",
              "  'C': ['', 'e3', '', 'e4,e5', ''],\n",
              "  'D': ['', 'e2', 'e4,e5', '', 'e6'],\n",
              "  'E': ['e7', '', '', 'e6', '']},\n",
              " {'F': ['', 'e1_', '', '', ''],\n",
              "  'G': ['e1_', '', 'e3_', 'e2_', ''],\n",
              "  'H': ['', 'e3_', '', 'e4_,e5_', ''],\n",
              "  'I': ['', 'e2_', 'e4_,e5_', '', 'e6_'],\n",
              "  'J': ['', '', '', 'e6_', '']})"
            ]
          },
          "metadata": {
            "tags": []
          },
          "execution_count": 147
        }
      ]
    },
    {
      "cell_type": "markdown",
      "metadata": {
        "id": "axNuuYxXyi04"
      },
      "source": [
        "## Test 3"
      ]
    },
    {
      "cell_type": "markdown",
      "metadata": {
        "id": "rApgv78CyZL_"
      },
      "source": [
        "![image.png](data:image/png;base64,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)"
      ]
    },
    {
      "cell_type": "code",
      "metadata": {
        "colab": {
          "base_uri": "https://localhost:8080/"
        },
        "id": "zAeRpEizyk1I",
        "outputId": "888992fe-b986-4633-afc8-dcea28629f6c"
      },
      "source": [
        "# Test Case 3\n",
        "adjacency_matrix_a = {'A': [\"\", \"e1\", \"\", \"\", \"e2\"], # A - V1\n",
        "                      'B': [\"e1\", \"\", \"e3\", \"\", \"\"], # B - V2\n",
        "                      'C': [\"\", \"e3\", \"\", \"e4\", \"\"], # C - V3\n",
        "                      'D': [\"\", \"\", \"e4\", \"\", \"e5\"], # D - V4\n",
        "                      'E': [\"e2\", \"\", \"\", \"e5\", \"\"]} # E - V5\n",
        "                      # A B C D E\n",
        "adjacency_matrix_b = {'F': [\"e2_\", \"\", \"\", \"e5_\", \"\"], # F - V5'\n",
        "                      'G': [\"\", \"\", \"e4_\", \"\", \"e5_\"], # G - V4'\n",
        "                      'H': [\"\", \"e3_\", \"\", \"e4_\", \"\"], # H - V3'\n",
        "                      'I': [\"e1_\", \"\", \"e3_\", \"\", \"\"], # I - V2'\n",
        "                      'J': [\"\", \"e1_\", \"\", \"\", \"e2_\"]} # J - V1'\n",
        "                      # J I H G F\n",
        "\n",
        "adjacency_matrix_a, adjacency_matrix_b"
      ],
      "execution_count": 139,
      "outputs": [
        {
          "output_type": "execute_result",
          "data": {
            "text/plain": [
              "({'A': ['', 'e1', '', '', 'e2'],\n",
              "  'B': ['e1', '', 'e3', '', ''],\n",
              "  'C': ['', 'e3', '', 'e4', ''],\n",
              "  'D': ['', '', 'e4', '', 'e5'],\n",
              "  'E': ['e2', '', '', 'e5', '']},\n",
              " {'F': ['e2_', '', '', 'e5_', ''],\n",
              "  'G': ['', '', 'e4_', '', 'e5_'],\n",
              "  'H': ['', 'e3_', '', 'e4_', ''],\n",
              "  'I': ['e1_', '', 'e3_', '', ''],\n",
              "  'J': ['', 'e1_', '', '', 'e2_']})"
            ]
          },
          "metadata": {
            "tags": []
          },
          "execution_count": 139
        }
      ]
    },
    {
      "cell_type": "markdown",
      "metadata": {
        "id": "RndHMeaMwPX8"
      },
      "source": [
        "# Method Functions"
      ]
    },
    {
      "cell_type": "markdown",
      "metadata": {
        "id": "cwHEignY5LY8"
      },
      "source": [
        "## Helper"
      ]
    },
    {
      "cell_type": "code",
      "metadata": {
        "id": "RDa3YoO03yAD"
      },
      "source": [
        "def findPair(adjacency_matrix, vertex, edge):\n",
        "  for v in [v for v in adjacency_matrix.keys() if v != vertex]:\n",
        "    for edges in adjacency_matrix[v]:\n",
        "      # print('v e', v, e)\n",
        "      for e in edges.split(\",\"):\n",
        "        if e == edge:\n",
        "          return v"
      ],
      "execution_count": 161,
      "outputs": []
    },
    {
      "cell_type": "code",
      "metadata": {
        "id": "-7AezuvfmtRE"
      },
      "source": [
        "def parseEdgePair(adjacency_matrix):\n",
        "  edge_pair = {}\n",
        "  for i in adjacency_matrix.keys():\n",
        "    for j in range(len(adjacency_matrix)):\n",
        "      if len(adjacency_matrix[i][j]) > 0: # buka empty string, ada edge\n",
        "        _edges = adjacency_matrix[i][j].split(',')\n",
        "        for _edge in _edges:\n",
        "          if i not in edge_pair:\n",
        "            edge_pair[i] = {} # inisialisasi dict kalau vertex belom ada di dict\n",
        "          edge_pair[i][_edge] = findPair(adjacency_matrix, i, _edge)\n",
        "\n",
        "  return edge_pair"
      ],
      "execution_count": 145,
      "outputs": []
    },
    {
      "cell_type": "code",
      "metadata": {
        "id": "oEGaRvG9yIxU"
      },
      "source": [
        "def count_degree(list_of_edges):\n",
        "  non_empty = []\n",
        "  for v in list_of_edges:\n",
        "    if len(v) > 0:\n",
        "      for e in v.split(','):\n",
        "        non_empty.append(e)\n",
        "  return len(non_empty)"
      ],
      "execution_count": 110,
      "outputs": []
    },
    {
      "cell_type": "markdown",
      "metadata": {
        "id": "aDe7ZBi95NrJ"
      },
      "source": [
        "## GLA (Graph Linearization Algorithm)"
      ]
    },
    {
      "cell_type": "code",
      "metadata": {
        "id": "81AYDffrfbGL"
      },
      "source": [
        "def TraverseGraph(edges_flag, vertices_flag, edge_pair, vertex, p, unexplGE):\n",
        "  p.append(vertex)\n",
        "  vertices_flag[vertex]['explored'] = True\n",
        "  unexplGE -= 1\n",
        "  for _edge in edge_pair[vertex]:\n",
        "    _v2 = edge_pair[vertex][_edge]\n",
        "    # print(vertex, _edge, _v2)\n",
        "    if not edges_flag[_edge] and vertices_flag[_v2]['explored']:\n",
        "      # print(\"masuk sini\")\n",
        "      p.append(_edge)\n",
        "      edges_flag[_edge] = True\n",
        "      # unexplGE -= 1\n",
        "      # p.append(edge_pair[vertex][_edge])\n",
        "      vertices_flag[vertex]['num_unexplored_edges'] -= 1\n",
        "      vertices_flag[edge_pair[vertex][_edge]]['num_unexplored_edges'] -= 1\n",
        "      unexplGE = TraverseGraph(edges_flag, vertices_flag, edge_pair, edge_pair[vertex][_edge], p, unexplGE)\n",
        "\n",
        "      if unexplGE > 0:\n",
        "        p.append(_edge)\n",
        "        p.append(vertex)\n",
        "      # break\n",
        "      # print('zz: ', unexplGE)\n",
        "    # print(_edge, _v2)\n",
        "    # break\n",
        "\n",
        "  while vertices_flag[vertex]['num_unexplored_edges'] > 0:\n",
        "    # print(edge_pair[vertex])\n",
        "    _edge = min([i for i in edge_pair[vertex].keys() if edges_flag[i] == False ], \n",
        "                key=(lambda k: vertices_flag[edge_pair[vertex][k]]['num_unexplored_edges']))\n",
        "    # print('next edge:', _edge)\n",
        "    p.append(_edge)\n",
        "    edges_flag[_edge] = True\n",
        "    unexplGE -= 1\n",
        "    vertices_flag[vertex]['num_unexplored_edges'] -= 1\n",
        "    vertices_flag[edge_pair[vertex][_edge]]['num_unexplored_edges'] -= 1\n",
        "    unexplGE = TraverseGraph(edges_flag, vertices_flag, edge_pair, edge_pair[vertex][_edge], p, unexplGE)\n",
        "    # print('unex: ', unexplGE)\n",
        "    # break\n",
        "    if unexplGE <= 0:\n",
        "      break\n",
        "  # print(\"test\")\n",
        "  return unexplGE"
      ],
      "execution_count": 165,
      "outputs": []
    },
    {
      "cell_type": "code",
      "metadata": {
        "id": "hcpNze1rdKic"
      },
      "source": [
        "def GLA(adjacency_matrix):\n",
        "  edges_flag = {} # Flag edge sudah dikunjungi atau belum -> {ket_edge: boolean}\n",
        "\n",
        "  vertices_flag = {} # Flag vertice sudah dikunjungi atau belum, dict of dict -> {key_vertex: {explored: boolean, num_unexplored_edges: int}}\n",
        "  for _vertex in adjacency_matrix.keys():\n",
        "    vertices_flag[_vertex] = {'explored': False, 'num_unexplored_edges': 0}\n",
        "\n",
        "\n",
        "  edge_pair = {} # Pasangan vertex dan edge pada sebuah vertex (nahloh bingung) -> {key_vertex: {dict_of_pasangan}}\n",
        "  for i in adjacency_matrix.keys():\n",
        "    for j in range(len(adjacency_matrix)):\n",
        "      if len(adjacency_matrix[i][j]) > 0: # buka empty string, ada edge\n",
        "        _edges = adjacency_matrix[i][j].split(',')\n",
        "        # print(\"_edges\", _edges)\n",
        "        for _edge in _edges:\n",
        "          edges_flag[_edge] = False\n",
        "          # print('_edge', _edge)\n",
        "          if i not in edge_pair:\n",
        "            edge_pair[i] = {} # inisialisasi dict kalau vertex belom ada di dict\n",
        "          edge_pair[i][_edge] = findPair(adjacency_matrix, i, _edge)\n",
        "          vertices_flag[i]['num_unexplored_edges'] += 1\n",
        "\n",
        "  # print('vertices_flag\\n', vertices_flag)\n",
        "  # print('edges_flag\\n', edges_flag)\n",
        "  # print('edge_pair\\n', edge_pair)\n",
        "\n",
        "  init_vertex = min(vertices_flag.keys(), key=(lambda k: vertices_flag[k]['num_unexplored_edges'])) # Ambil vertex dengan degree terkecil\n",
        "  # print(init_vertex)\n",
        "\n",
        "  p = []\n",
        "  unexplGE = len(adjacency_matrix) + len(edges_flag)\n",
        "  # print(unexplGE)\n",
        "  TraverseGraph(edges_flag, vertices_flag, edge_pair, init_vertex, p, unexplGE)\n",
        "  return p"
      ],
      "execution_count": 163,
      "outputs": []
    },
    {
      "cell_type": "markdown",
      "metadata": {
        "id": "HEcfjvzv5Po_"
      },
      "source": [
        "## PGM (Parameterized Graph Matching)"
      ]
    },
    {
      "cell_type": "code",
      "metadata": {
        "id": "JUxWUBgf6uKU"
      },
      "source": [
        "def ExtendMatch(vertex, p, p_index, f_ge, g_ge, edge_pair_1, edge_pair_2):\n",
        "  if p_index >= len(p)-1:\n",
        "    return True\n",
        "  p_next_edge = p[p_index+1]\n",
        "  p_next_vertex = p[p_index+2]\n",
        "  if f_ge[p_next_vertex] is None:\n",
        "    # print(\"undef\")/\n",
        "    for edge in edge_pair_2[vertex]:\n",
        "      vertex_pair = edge_pair_2[vertex][edge]\n",
        "      # print(edge, edge_pair_2[vertex][edge])\n",
        "      if g_ge[vertex_pair] == False and g_ge[edge] == False \\\n",
        "        and (count_degree(edge_pair_2[vertex_pair]) == count_degree (edge_pair_1[p_next_vertex])):\n",
        "        # print(vertex_pair, p_next_vertex)\n",
        "        f_ge_ = f_ge.copy()\n",
        "        g_ge_ = g_ge.copy()\n",
        "\n",
        "        f_ge_[p_next_edge] = edge\n",
        "        f_ge_[p_next_vertex] = vertex_pair\n",
        "        g_ge_[edge] = True\n",
        "        g_ge_[vertex_pair] = True\n",
        "\n",
        "        if ExtendMatch(vertex_pair, p, p_index + 2, f_ge_, g_ge_, edge_pair_1, edge_pair_2):\n",
        "          return True\n",
        "  else:\n",
        "    vertex_pair = f_ge[p_next_vertex]\n",
        "    if f_ge[p_next_edge] is None:\n",
        "      for edge in [i for i in edge_pair_2[vertex] if edge_pair_2[vertex][i] == vertex_pair and g_ge[i] == False]:\n",
        "        f_ge_ = f_ge.copy()\n",
        "        g_ge_ = g_ge.copy()\n",
        "\n",
        "        f_ge_[p_next_edge] = edge\n",
        "        g_ge_[edge] = True\n",
        "\n",
        "        if ExtendMatch(vertex_pair, p, p_index + 2, f_ge_, g_ge_, edge_pair_1, edge_pair_2):\n",
        "          return True\n",
        "    else:\n",
        "      if ExtendMatch(vertex_pair, p, p_index + 2, f_ge, g_ge, edge_pair_1, edge_pair_2):\n",
        "          return True\n",
        "  return False"
      ],
      "execution_count": 114,
      "outputs": []
    },
    {
      "cell_type": "code",
      "metadata": {
        "id": "VN_aOuzqgCVh"
      },
      "source": [
        "def PMG(adjacency_matrix_1, adjacency_matrix_2):\n",
        "  # TODO: fungsi parameterized match graph\n",
        "  p = GLA(adjacency_matrix_1)\n",
        "  f_ge = {} # {edge_atau_vertex_1: edge_atau_vertex_2}\n",
        "  g_ge = {} # {edge_atau_vertex_2: boolean}\n",
        "  edge_pair_1 = parseEdgePair(adjacency_matrix_1)\n",
        "  edge_pair_2 = parseEdgePair(adjacency_matrix_2)\n",
        "  for ge in p:\n",
        "    f_ge[ge] = None\n",
        "  for v in adjacency_matrix_2.keys():\n",
        "    g_ge[v] = False\n",
        "    for _e in adjacency_matrix_2[v]:\n",
        "      if len(_e) > 0:\n",
        "        for e in _e.split(','):\n",
        "          g_ge[e] =  False\n",
        "\n",
        "  # print(f_ge)\n",
        "  # print(g_ge)\n",
        "  for vertex_2 in adjacency_matrix_2.keys():\n",
        "    if count_degree(adjacency_matrix_2[vertex_2]) == count_degree(adjacency_matrix_1[p[0]]):\n",
        "      f_ge_ = f_ge.copy()\n",
        "      g_ge_ = g_ge.copy()\n",
        "\n",
        "      f_ge_[p[0]] = vertex_2\n",
        "      g_ge_[vertex_2] = True\n",
        "      if ExtendMatch(vertex_2, p, 0, f_ge_, g_ge_, edge_pair_1, edge_pair_2):\n",
        "        return True\n",
        "      # print(f_ge_, g_ge_)\n",
        "  return False"
      ],
      "execution_count": 115,
      "outputs": []
    },
    {
      "cell_type": "markdown",
      "metadata": {
        "id": "9nAupP4_wJCF"
      },
      "source": [
        "# Testing"
      ]
    },
    {
      "cell_type": "code",
      "metadata": {
        "colab": {
          "base_uri": "https://localhost:8080/"
        },
        "id": "9201am4Ih2nt",
        "outputId": "58d67788-4793-4141-9559-7092bf93f7e2"
      },
      "source": [
        "linearized_graph = GLA(adjacency_matrix_a)\n",
        "'->'.join(linearized_graph), len(linearized_graph)"
      ],
      "execution_count": 170,
      "outputs": [
        {
          "output_type": "execute_result",
          "data": {
            "text/plain": [
              "('A->e1->B->e3->C->e4->D->e2->B->e2->D->e5->C->e5->D->e6->E', 17)"
            ]
          },
          "metadata": {
            "tags": []
          },
          "execution_count": 170
        }
      ]
    },
    {
      "cell_type": "code",
      "metadata": {
        "colab": {
          "base_uri": "https://localhost:8080/"
        },
        "id": "pmrQ5ZQ12HAO",
        "outputId": "ed6c7c1d-dd93-4786-f734-80f1fe4ff0ac"
      },
      "source": [
        "linearized_graph = GLA(adjacency_matrix_b)\n",
        "'->'.join(linearized_graph), len(linearized_graph)"
      ],
      "execution_count": 171,
      "outputs": [
        {
          "output_type": "execute_result",
          "data": {
            "text/plain": [
              "('F->e1_->G->e3_->H->e4_->I->e2_->G->e2_->I->e5_->H->e5_->I->e6_->J', 17)"
            ]
          },
          "metadata": {
            "tags": []
          },
          "execution_count": 171
        }
      ]
    },
    {
      "cell_type": "code",
      "metadata": {
        "id": "zfeDYscLAGBd",
        "colab": {
          "base_uri": "https://localhost:8080/"
        },
        "outputId": "c70cb6e9-d145-4a1b-eee9-9c7f1e4f352a"
      },
      "source": [
        "PMG(adjacency_matrix_a, adjacency_matrix_b)"
      ],
      "execution_count": 172,
      "outputs": [
        {
          "output_type": "execute_result",
          "data": {
            "text/plain": [
              "True"
            ]
          },
          "metadata": {
            "tags": []
          },
          "execution_count": 172
        }
      ]
    },
    {
      "cell_type": "code",
      "metadata": {
        "id": "V-FEQsCb2dfl"
      },
      "source": [
        ""
      ],
      "execution_count": null,
      "outputs": []
    }
  ]
}